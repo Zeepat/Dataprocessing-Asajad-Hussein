{
 "cells": [
  {
   "cell_type": "markdown",
   "metadata": {},
   "source": [
    "- **Pseudonymization**: Replace the original identifier with a pseudonym, or a value that is not the original identifier but can be used to identify the individual. For example, a patient's name can be replaced with a pseudonym, such as a number, or a code. The pseudonym is not the same as the original identifier, but can be used to identify the individual. Pseudonymization is often used in clinical trials to protect the privacy of patients. The pseudonym is not the same as the original identifier, but can be used to identify the individual. Pseudonymization is often used in clinical trials to protect the privacy of patients. The pseudonym is not the same as the original identifier, but can be used to identify the individual. Pseudonymization is often used in clinical trials to protect the privacy of patients.\n",
    "- **Anonymization:** Replacing identifying information with the *intent* to be fully non-reversable\n",
    "\n",
    "### Techniques for anonymization \n",
    "- **Hashing / Crypto** Asajad Hussein => abd78ab78d67ac8977a796e897\n",
    "- **Data masking** asajadhussein@hotmail.com => a**\\*\\*@\\*\\*\\***.com\n",
    "- **Generalization** Age: 34 => Age: 30-40\n",
    "- **Aggregation** Group and Aggregate\n",
    "- **Removing data** Remove column(s) form dataset"
   ]
  },
  {
   "cell_type": "markdown",
   "metadata": {},
   "source": [
    "# Anonymization with hash\n",
    "- There are many types of hash functions (algorithms). Example MD5, SHA-128, SHA256\n",
    "- Hash functions are used to map data of arbitrary size to ficed-size values\n",
    "- The same input always results in the same output (given it's using the same algorithm)\n",
    "- (even) a small change in the input yields a totally different output string.\n",
    "- It's not possible to reverse the process (i.e, given the output hash we cannot get the original string back.)"
   ]
  },
  {
   "cell_type": "code",
   "execution_count": 5,
   "metadata": {},
   "outputs": [
    {
     "data": {
      "text/plain": [
       "'d22b947784e2fb59e57d66264dce9bb431373687cc19f6e5d8d53d787331f90a'"
      ]
     },
     "execution_count": 5,
     "metadata": {},
     "output_type": "execute_result"
    }
   ],
   "source": [
    "import hashlib as hl\n",
    "\n",
    "text = \"top secret information\".encode('utf-8')\n",
    "\n",
    "hl.sha256(text).hexdigest()"
   ]
  },
  {
   "cell_type": "code",
   "execution_count": 9,
   "metadata": {},
   "outputs": [
    {
     "name": "stdout",
     "output_type": "stream",
     "text": [
      "hl.sha256('hello world'.encode()).hexdigest() = 'b94d27b9934d3e08a52e52d7da7dabfac484efe37a5380ee9088f7ace2efcde9'\n",
      "hl.sha256('Hello world'.encode()).hexdigest() = '64ec88ca00b268e5ba1a35678a1b5316d212f4f366b2477232534a8aeca37f3c'\n"
     ]
    }
   ],
   "source": [
    "print(f\"{hl.sha256('hello world'.encode()).hexdigest() = }\")\n",
    "print(f\"{hl.sha256('Hello world'.encode()).hexdigest() = }\")"
   ]
  },
  {
   "cell_type": "code",
   "execution_count": 11,
   "metadata": {},
   "outputs": [],
   "source": [
    "import pandas as pd"
   ]
  },
  {
   "cell_type": "code",
   "execution_count": 41,
   "metadata": {},
   "outputs": [
    {
     "data": {
      "text/html": [
       "<div>\n",
       "<style scoped>\n",
       "    .dataframe tbody tr th:only-of-type {\n",
       "        vertical-align: middle;\n",
       "    }\n",
       "\n",
       "    .dataframe tbody tr th {\n",
       "        vertical-align: top;\n",
       "    }\n",
       "\n",
       "    .dataframe thead th {\n",
       "        text-align: right;\n",
       "    }\n",
       "</style>\n",
       "<table border=\"1\" class=\"dataframe\">\n",
       "  <thead>\n",
       "    <tr style=\"text-align: right;\">\n",
       "      <th></th>\n",
       "      <th>first_name</th>\n",
       "      <th>last_name</th>\n",
       "      <th>job_title</th>\n",
       "      <th>salary</th>\n",
       "      <th>department</th>\n",
       "    </tr>\n",
       "  </thead>\n",
       "  <tbody>\n",
       "    <tr>\n",
       "      <th>0</th>\n",
       "      <td>John</td>\n",
       "      <td>Doe</td>\n",
       "      <td>Sales Director</td>\n",
       "      <td>120000</td>\n",
       "      <td>Sales</td>\n",
       "    </tr>\n",
       "    <tr>\n",
       "      <th>1</th>\n",
       "      <td>Jane</td>\n",
       "      <td>Smith</td>\n",
       "      <td>HR Coordinator</td>\n",
       "      <td>60000</td>\n",
       "      <td>Human Resources</td>\n",
       "    </tr>\n",
       "    <tr>\n",
       "      <th>2</th>\n",
       "      <td>Michael</td>\n",
       "      <td>Johnson</td>\n",
       "      <td>Software Engineer</td>\n",
       "      <td>110000</td>\n",
       "      <td>IT</td>\n",
       "    </tr>\n",
       "    <tr>\n",
       "      <th>3</th>\n",
       "      <td>Sarah</td>\n",
       "      <td>Williams</td>\n",
       "      <td>Marketing Specialist</td>\n",
       "      <td>75000</td>\n",
       "      <td>Sales</td>\n",
       "    </tr>\n",
       "    <tr>\n",
       "      <th>4</th>\n",
       "      <td>David</td>\n",
       "      <td>Brown</td>\n",
       "      <td>HR Manager</td>\n",
       "      <td>90000</td>\n",
       "      <td>Human Resources</td>\n",
       "    </tr>\n",
       "  </tbody>\n",
       "</table>\n",
       "</div>"
      ],
      "text/plain": [
       "  first_name last_name             job_title  salary       department\n",
       "0       John       Doe        Sales Director  120000            Sales\n",
       "1       Jane     Smith        HR Coordinator   60000  Human Resources\n",
       "2    Michael   Johnson     Software Engineer  110000               IT\n",
       "3      Sarah  Williams  Marketing Specialist   75000            Sales\n",
       "4      David     Brown            HR Manager   90000  Human Resources"
      ]
     },
     "execution_count": 41,
     "metadata": {},
     "output_type": "execute_result"
    }
   ],
   "source": [
    "employees = pd.read_json('../Data/employees.json')\n",
    "employees.head()"
   ]
  },
  {
   "cell_type": "code",
   "execution_count": 42,
   "metadata": {},
   "outputs": [
    {
     "data": {
      "text/html": [
       "<div>\n",
       "<style scoped>\n",
       "    .dataframe tbody tr th:only-of-type {\n",
       "        vertical-align: middle;\n",
       "    }\n",
       "\n",
       "    .dataframe tbody tr th {\n",
       "        vertical-align: top;\n",
       "    }\n",
       "\n",
       "    .dataframe thead th {\n",
       "        text-align: right;\n",
       "    }\n",
       "</style>\n",
       "<table border=\"1\" class=\"dataframe\">\n",
       "  <thead>\n",
       "    <tr style=\"text-align: right;\">\n",
       "      <th></th>\n",
       "      <th>first_name</th>\n",
       "      <th>last_name</th>\n",
       "      <th>job_title</th>\n",
       "      <th>salary</th>\n",
       "      <th>department</th>\n",
       "    </tr>\n",
       "  </thead>\n",
       "  <tbody>\n",
       "    <tr>\n",
       "      <th>0</th>\n",
       "      <td>a8cfcd74832004951b4408cdb0a5dbcd8c7e52d43f7fe2...</td>\n",
       "      <td>Doe</td>\n",
       "      <td>Sales Director</td>\n",
       "      <td>120000</td>\n",
       "      <td>Sales</td>\n",
       "    </tr>\n",
       "    <tr>\n",
       "      <th>1</th>\n",
       "      <td>4f23798d92708359b734a18172c9c864f1d48044a75411...</td>\n",
       "      <td>Smith</td>\n",
       "      <td>HR Coordinator</td>\n",
       "      <td>60000</td>\n",
       "      <td>Human Resources</td>\n",
       "    </tr>\n",
       "    <tr>\n",
       "      <th>2</th>\n",
       "      <td>f089eaef57aba315bc0e1455985c0c8e40c247f073ce1f...</td>\n",
       "      <td>Johnson</td>\n",
       "      <td>Software Engineer</td>\n",
       "      <td>110000</td>\n",
       "      <td>IT</td>\n",
       "    </tr>\n",
       "    <tr>\n",
       "      <th>3</th>\n",
       "      <td>7e8c729e4e4ecc320cb411c4d1419bf5fbad733212d4e9...</td>\n",
       "      <td>Williams</td>\n",
       "      <td>Marketing Specialist</td>\n",
       "      <td>75000</td>\n",
       "      <td>Sales</td>\n",
       "    </tr>\n",
       "    <tr>\n",
       "      <th>4</th>\n",
       "      <td>a6b54c20a7b96eeac1a911e6da3124a560fe6dc042ebf2...</td>\n",
       "      <td>Brown</td>\n",
       "      <td>HR Manager</td>\n",
       "      <td>90000</td>\n",
       "      <td>Human Resources</td>\n",
       "    </tr>\n",
       "  </tbody>\n",
       "</table>\n",
       "</div>"
      ],
      "text/plain": [
       "                                          first_name last_name  \\\n",
       "0  a8cfcd74832004951b4408cdb0a5dbcd8c7e52d43f7fe2...       Doe   \n",
       "1  4f23798d92708359b734a18172c9c864f1d48044a75411...     Smith   \n",
       "2  f089eaef57aba315bc0e1455985c0c8e40c247f073ce1f...   Johnson   \n",
       "3  7e8c729e4e4ecc320cb411c4d1419bf5fbad733212d4e9...  Williams   \n",
       "4  a6b54c20a7b96eeac1a911e6da3124a560fe6dc042ebf2...     Brown   \n",
       "\n",
       "              job_title  salary       department  \n",
       "0        Sales Director  120000            Sales  \n",
       "1        HR Coordinator   60000  Human Resources  \n",
       "2     Software Engineer  110000               IT  \n",
       "3  Marketing Specialist   75000            Sales  \n",
       "4            HR Manager   90000  Human Resources  "
      ]
     },
     "execution_count": 42,
     "metadata": {},
     "output_type": "execute_result"
    }
   ],
   "source": [
    "employees[\"first_name\"] = employees[\"first_name\"].apply(lambda name: hl.sha256(name.encode()).hexdigest())\n",
    "employees.head()"
   ]
  },
  {
   "cell_type": "code",
   "execution_count": 43,
   "metadata": {},
   "outputs": [
    {
     "name": "stdout",
     "output_type": "stream",
     "text": [
      "7e8c729e4e4ecc320cb411c4d1419bf5fbad733212d4e9491b7630aaef0b8b1c\n"
     ]
    },
    {
     "data": {
      "text/html": [
       "<div>\n",
       "<style scoped>\n",
       "    .dataframe tbody tr th:only-of-type {\n",
       "        vertical-align: middle;\n",
       "    }\n",
       "\n",
       "    .dataframe tbody tr th {\n",
       "        vertical-align: top;\n",
       "    }\n",
       "\n",
       "    .dataframe thead th {\n",
       "        text-align: right;\n",
       "    }\n",
       "</style>\n",
       "<table border=\"1\" class=\"dataframe\">\n",
       "  <thead>\n",
       "    <tr style=\"text-align: right;\">\n",
       "      <th></th>\n",
       "      <th>first_name</th>\n",
       "      <th>last_name</th>\n",
       "      <th>job_title</th>\n",
       "      <th>salary</th>\n",
       "      <th>department</th>\n",
       "    </tr>\n",
       "  </thead>\n",
       "  <tbody>\n",
       "    <tr>\n",
       "      <th>3</th>\n",
       "      <td>7e8c729e4e4ecc320cb411c4d1419bf5fbad733212d4e9...</td>\n",
       "      <td>Williams</td>\n",
       "      <td>Marketing Specialist</td>\n",
       "      <td>75000</td>\n",
       "      <td>Sales</td>\n",
       "    </tr>\n",
       "  </tbody>\n",
       "</table>\n",
       "</div>"
      ],
      "text/plain": [
       "                                          first_name last_name  \\\n",
       "3  7e8c729e4e4ecc320cb411c4d1419bf5fbad733212d4e9...  Williams   \n",
       "\n",
       "              job_title  salary department  \n",
       "3  Marketing Specialist   75000      Sales  "
      ]
     },
     "execution_count": 43,
     "metadata": {},
     "output_type": "execute_result"
    }
   ],
   "source": [
    "name = input(\"Enter name:\")\n",
    "name_hash = hl.sha256(name.encode()).hexdigest()\n",
    "print(name_hash)\n",
    "employees.query(f\"first_name == @name_hash\")"
   ]
  }
 ],
 "metadata": {
  "kernelspec": {
   "display_name": "Dataprocessing-Asajad-Hussein-sglkyhwr",
   "language": "python",
   "name": "python3"
  },
  "language_info": {
   "codemirror_mode": {
    "name": "ipython",
    "version": 3
   },
   "file_extension": ".py",
   "mimetype": "text/x-python",
   "name": "python",
   "nbconvert_exporter": "python",
   "pygments_lexer": "ipython3",
   "version": "3.11.5"
  },
  "orig_nbformat": 4
 },
 "nbformat": 4,
 "nbformat_minor": 2
}
