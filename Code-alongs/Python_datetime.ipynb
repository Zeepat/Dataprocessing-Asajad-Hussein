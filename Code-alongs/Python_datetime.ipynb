{
 "cells": [
  {
   "cell_type": "markdown",
   "metadata": {},
   "source": [
    "# Working with date and time in python"
   ]
  },
  {
   "cell_type": "markdown",
   "metadata": {},
   "source": [
    "### datetime"
   ]
  },
  {
   "cell_type": "code",
   "execution_count": 127,
   "metadata": {},
   "outputs": [],
   "source": [
    "from datetime import datetime, timedelta, date, time\n",
    "from dateutil.relativedelta import relativedelta"
   ]
  },
  {
   "cell_type": "code",
   "execution_count": 70,
   "metadata": {},
   "outputs": [
    {
     "data": {
      "text/plain": [
       "datetime.datetime"
      ]
     },
     "execution_count": 70,
     "metadata": {},
     "output_type": "execute_result"
    }
   ],
   "source": [
    "now = datetime.now()\n",
    "type(now)"
   ]
  },
  {
   "cell_type": "code",
   "execution_count": 57,
   "metadata": {},
   "outputs": [
    {
     "name": "stdout",
     "output_type": "stream",
     "text": [
      "Now is 2023-11-10 09:08:52.413235\n",
      "now = datetime.datetime(2023, 11, 10, 9, 8, 52, 413235)\n"
     ]
    }
   ],
   "source": [
    "print(f'Now is {now}')\n",
    "print(f'{now = }')"
   ]
  },
  {
   "cell_type": "code",
   "execution_count": 91,
   "metadata": {},
   "outputs": [
    {
     "name": "stdout",
     "output_type": "stream",
     "text": [
      "2023\n",
      "11\n",
      "10\n",
      "9\n",
      "10\n",
      "27\n",
      "736329\n",
      "now.weekday() = 4\n",
      "now.isocalendar() = datetime.IsoCalendarDate(year=2023, week=45, weekday=5)\n"
     ]
    }
   ],
   "source": [
    "print(f'{now.year}')\n",
    "print(f'{now.month}')\n",
    "print(f'{now.day}')\n",
    "print(f'{now.hour}')\n",
    "print(f'{now.minute}')\n",
    "print(f'{now.second}')\n",
    "print(f'{now.microsecond}')\n",
    "\n",
    "print(f'{now.weekday() = }')\n",
    "print(f'{now.isocalendar() = }')"
   ]
  },
  {
   "cell_type": "code",
   "execution_count": 86,
   "metadata": {},
   "outputs": [
    {
     "name": "stdout",
     "output_type": "stream",
     "text": [
      "2023-11-10\n",
      "now.strftime(\"%Y-%m-%d\") = '2023-11-10'\n",
      "now.strftime(\"Today is a %A in %B\") = 'Today is a Friday in November'\n"
     ]
    }
   ],
   "source": [
    "print(f'{now.year}-{now.month}-{now.day}')\n",
    "print(f'{now.strftime(\"%Y-%m-%d\") = }')\n",
    "print(f'{now.strftime(\"Today is a %A in %B\") = }')"
   ]
  },
  {
   "cell_type": "code",
   "execution_count": 88,
   "metadata": {},
   "outputs": [
    {
     "data": {
      "text/plain": [
       "'2023-12-24 00:00:00'"
      ]
     },
     "execution_count": 88,
     "metadata": {},
     "output_type": "execute_result"
    }
   ],
   "source": [
    "christmas = datetime(2023, 12, 24)\n",
    "str(christmas)"
   ]
  },
  {
   "cell_type": "code",
   "execution_count": 90,
   "metadata": {},
   "outputs": [
    {
     "data": {
      "text/plain": [
       "'2024-01-01 00:00:00'"
      ]
     },
     "execution_count": 90,
     "metadata": {},
     "output_type": "execute_result"
    }
   ],
   "source": [
    "new_year = \"2024-01-01\"\n",
    "next_year = datetime.strptime(new_year, \"%Y-%d-%m\")\n",
    "str(next_year)"
   ]
  },
  {
   "cell_type": "code",
   "execution_count": 93,
   "metadata": {},
   "outputs": [
    {
     "name": "stdout",
     "output_type": "stream",
     "text": [
      "2023-11-10\n",
      "09:10:27.736329\n"
     ]
    }
   ],
   "source": [
    "print(now.date())\n",
    "print(now.time())"
   ]
  },
  {
   "cell_type": "markdown",
   "metadata": {},
   "source": [
    "### Timedelta"
   ]
  },
  {
   "cell_type": "code",
   "execution_count": 97,
   "metadata": {},
   "outputs": [
    {
     "data": {
      "text/plain": [
       "datetime.timedelta"
      ]
     },
     "execution_count": 97,
     "metadata": {},
     "output_type": "execute_result"
    }
   ],
   "source": [
    "# Calculating the diff between two datetimes gives us a timedelta object\n",
    "time_until_next_year = next_year - now\n",
    "type(time_until_next_year)"
   ]
  },
  {
   "cell_type": "code",
   "execution_count": 99,
   "metadata": {},
   "outputs": [
    {
     "name": "stdout",
     "output_type": "stream",
     "text": [
      "51 days, 14:49:32.263671\n",
      "datetime.timedelta(days=51, seconds=53372, microseconds=263671)\n"
     ]
    }
   ],
   "source": [
    "print(f\"{str(time_until_next_year)}\")\n",
    "print(f\"{repr(time_until_next_year)}\")"
   ]
  },
  {
   "cell_type": "code",
   "execution_count": 116,
   "metadata": {},
   "outputs": [
    {
     "name": "stdout",
     "output_type": "stream",
     "text": [
      "51 days, 14:23:58.857101\n"
     ]
    }
   ],
   "source": [
    "print(next_year - datetime.now())"
   ]
  },
  {
   "cell_type": "code",
   "execution_count": 118,
   "metadata": {},
   "outputs": [
    {
     "name": "stdout",
     "output_type": "stream",
     "text": [
      "time_until_next_year.days = 51\n",
      "time_until_next_year.seconds = 53372\n",
      "time_until_next_year.microseconds = 263671\n",
      "time_until_next_year.total_seconds() = 4459772.263671\n"
     ]
    }
   ],
   "source": [
    "print(f\"{time_until_next_year.days = }\")\n",
    "print(f\"{time_until_next_year.seconds = }\")\n",
    "print(f\"{time_until_next_year.microseconds = }\")\n",
    "print(f\"{time_until_next_year.total_seconds() = }\")"
   ]
  },
  {
   "cell_type": "code",
   "execution_count": 119,
   "metadata": {},
   "outputs": [
    {
     "data": {
      "text/plain": [
       "datetime.timedelta(days=103, seconds=20344, microseconds=527342)"
      ]
     },
     "execution_count": 119,
     "metadata": {},
     "output_type": "execute_result"
    }
   ],
   "source": [
    "# Arithmetics can be applied on timedelta\n",
    "time_until_next_year * 2"
   ]
  },
  {
   "cell_type": "code",
   "execution_count": 121,
   "metadata": {},
   "outputs": [
    {
     "name": "stdout",
     "output_type": "stream",
     "text": [
      "2024-02-21 14:49:32.263671\n"
     ]
    }
   ],
   "source": [
    "# Adding (or substracting) a timedelta to a datetime object gives us a new datetime\n",
    "print(next_year + time_until_next_year)"
   ]
  },
  {
   "cell_type": "code",
   "execution_count": 124,
   "metadata": {},
   "outputs": [
    {
     "name": "stdout",
     "output_type": "stream",
     "text": [
      "2023-11-03 09:43:36.558690\n"
     ]
    }
   ],
   "source": [
    "print(datetime.now() - timedelta(7))"
   ]
  },
  {
   "cell_type": "code",
   "execution_count": 129,
   "metadata": {},
   "outputs": [
    {
     "name": "stdout",
     "output_type": "stream",
     "text": [
      "2023-06-10 09:46:53.011742\n"
     ]
    }
   ],
   "source": [
    "print(datetime.now() - relativedelta(months=5))"
   ]
  }
 ],
 "metadata": {
  "kernelspec": {
   "display_name": "Dataprocessing-Asajad-Hussein-Q38con1_",
   "language": "python",
   "name": "python3"
  },
  "language_info": {
   "codemirror_mode": {
    "name": "ipython",
    "version": 3
   },
   "file_extension": ".py",
   "mimetype": "text/x-python",
   "name": "python",
   "nbconvert_exporter": "python",
   "pygments_lexer": "ipython3",
   "version": "3.11.5"
  }
 },
 "nbformat": 4,
 "nbformat_minor": 2
}
