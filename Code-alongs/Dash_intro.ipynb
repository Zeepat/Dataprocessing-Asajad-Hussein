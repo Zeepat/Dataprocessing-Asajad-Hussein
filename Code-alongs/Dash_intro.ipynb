{
 "cells": [
  {
   "cell_type": "code",
   "execution_count": 3,
   "metadata": {},
   "outputs": [
    {
     "name": "stdout",
     "output_type": "stream",
     "text": [
      "Dash app running on http://127.0.0.1:8050/\n"
     ]
    }
   ],
   "source": [
    "from dash import Dash, html, dcc, callback, Output, Input\n",
    "\n",
    "app = Dash(__name__)\n",
    "\n",
    "my_h1 = html.H1(\"My Dash Application\") # <h1>My Dash App</h1>\n",
    "my_h2 = html.H2(\"More info...\") # <div><h1>My Dash App</h1></div>\n",
    "my_dropdown = dcc.Dropdown(options=[\"Äpple\", \"Banan\", \"Citron\"], value=\"Banan\")\n",
    "app.layout = html.Div(children=[my_h1, my_h2, my_dropdown])\n",
    "\n",
    "@callback(\n",
    "    Output(my_h2, component_property=\"children\"),\n",
    "    Input(my_dropdown, component_property=\"value\")\n",
    ")\n",
    "\n",
    "def update_heading2(fruit):\n",
    "    return fruit\n",
    "\n",
    "app.run(debug=True, jupyter_mode=\"External\")"
   ]
  }
 ],
 "metadata": {
  "kernelspec": {
   "display_name": "Dataprocessing-Asajad-Hussein-sglkyhwr",
   "language": "python",
   "name": "python3"
  },
  "language_info": {
   "codemirror_mode": {
    "name": "ipython",
    "version": 3
   },
   "file_extension": ".py",
   "mimetype": "text/x-python",
   "name": "python",
   "nbconvert_exporter": "python",
   "pygments_lexer": "ipython3",
   "version": "3.11.5"
  },
  "orig_nbformat": 4
 },
 "nbformat": 4,
 "nbformat_minor": 2
}
